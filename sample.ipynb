{
 "cells": [
  {
   "cell_type": "code",
   "execution_count": 1,
   "metadata": {},
   "outputs": [],
   "source": [
    "from src.utils import EncoderDecoder\n",
    "import plotly.graph_objects as go\n",
    "from plotly.subplots import make_subplots\n",
    "from src.models.diffusion import SimpleDiffusionModel\n",
    "from src.models.predict import KilterModel\n",
    "import numpy as np\n",
    "import pandas as pd"
   ]
  },
  {
   "cell_type": "code",
   "execution_count": 2,
   "metadata": {},
   "outputs": [],
   "source": [
    "grades = pd.read_csv(\"data/raw/grades.csv\", index_col=0).set_index(\"difficulty\")[\"boulder_name\"].to_dict()"
   ]
  },
  {
   "cell_type": "code",
   "execution_count": 3,
   "metadata": {},
   "outputs": [],
   "source": [
    "model = SimpleDiffusionModel.load_from_checkpoint(\n",
    "    \"logs/lightning_logs/2263tvzt/checkpoints/epoch=24-step=84525.ckpt\",\n",
    "    config={\"dim\": 64, \"timesteps\": 1000, \"lr\": 1e-4, \"objective\" : \"eps\"},\n",
    ").cuda()\n",
    "classifier = KilterModel.load_from_checkpoint(\n",
    "    \"logs/lightning_logs/clq07ma5/checkpoints/epoch=51-step=15444.ckpt\",\n",
    "    config={\"embedding_dim\": 256, \"dim\": 512, \"depth\": 6, \"heads\": 16, \"mlp_dim\": 512, \"dropout\": 0.1},\n",
    ").cuda()"
   ]
  },
  {
   "cell_type": "code",
   "execution_count": 4,
   "metadata": {},
   "outputs": [],
   "source": [
    "encdec = EncoderDecoder()"
   ]
  },
  {
   "cell_type": "code",
   "execution_count": 5,
   "metadata": {},
   "outputs": [
    {
     "name": "stderr",
     "output_type": "stream",
     "text": [
      "sampling loop time step:   0%|          | 0/1000 [00:00<?, ?it/s]"
     ]
    },
    {
     "name": "stderr",
     "output_type": "stream",
     "text": [
      "sampling loop time step: 100%|██████████| 1000/1000 [02:25<00:00,  6.89it/s]\n"
     ]
    }
   ],
   "source": [
    "samples = model.diffusion.sample(128)"
   ]
  },
  {
   "cell_type": "code",
   "execution_count": 6,
   "metadata": {},
   "outputs": [],
   "source": [
    "parsed_images = []\n",
    "frames_angles = []\n",
    "for i in list(samples):\n",
    "    frame, angle = encdec(i)\n",
    "    frames_angles.append((frame, angle))\n",
    "    parsed_images.append(encdec(frame, angle))"
   ]
  },
  {
   "cell_type": "code",
   "execution_count": 7,
   "metadata": {},
   "outputs": [],
   "source": [
    "image_grades = []\n",
    "for image in parsed_images:\n",
    "    numerical_grade = classifier.forward(image.unsqueeze(0).cuda())\n",
    "    grade = grades[numerical_grade.round().long().item()]\n",
    "    image_grades.append(grade)"
   ]
  },
  {
   "cell_type": "code",
   "execution_count": 14,
   "metadata": {},
   "outputs": [],
   "source": [
    "n = 5\n",
    "fig = make_subplots(rows=n, cols=n, horizontal_spacing=0.02, vertical_spacing=0.02, subplot_titles=[f\"{image_grades[x]} @ {frames_angles[x][1]}°\" for x in range(n**2)])\n",
    "for i in range(n):\n",
    "    for j in range(n):\n",
    "        climb, angle = frames_angles[i*n + j]\n",
    "        fig.add_trace(go.Image(z=encdec.plot_climb(climb)), row=i+1, col=j+1)\n",
    "\n",
    "for i in range(n):\n",
    "    for j in range(n):\n",
    "        fig.update_xaxes(showticklabels=False, row=i + 1, col=j + 1)\n",
    "        fig.update_yaxes(showticklabels=False, row=i + 1, col=j + 1)\n",
    "fig.update_layout(\n",
    "    width=1000,\n",
    "    height=1000,\n",
    "    margin=dict(t=25,b=5, l=5, r=5),\n",
    ")\n",
    "fig.write_image(f\"figs/{n}x{n}_samples.png\", scale=4)\n",
    "# fig.show()"
   ]
  },
  {
   "cell_type": "code",
   "execution_count": 21,
   "metadata": {},
   "outputs": [],
   "source": [
    "frames = []\n",
    "angles = []\n",
    "for tup in frames_angles:\n",
    "    frames.append(tup[0])\n",
    "    angles.append(tup[1])"
   ]
  },
  {
   "cell_type": "code",
   "execution_count": 23,
   "metadata": {},
   "outputs": [],
   "source": [
    "df = pd.DataFrame()\n",
    "df[\"frames\"] = frames\n",
    "df[\"angle\"] = angles\n",
    "df[\"grade\"] = image_grades"
   ]
  },
  {
   "cell_type": "code",
   "execution_count": 26,
   "metadata": {},
   "outputs": [],
   "source": [
    "df.to_csv(\"test.csv\", index=False)"
   ]
  },
  {
   "cell_type": "code",
   "execution_count": null,
   "metadata": {},
   "outputs": [],
   "source": []
  }
 ],
 "metadata": {
  "kernelspec": {
   "display_name": "rindti",
   "language": "python",
   "name": "python3"
  },
  "language_info": {
   "codemirror_mode": {
    "name": "ipython",
    "version": 3
   },
   "file_extension": ".py",
   "mimetype": "text/x-python",
   "name": "python",
   "nbconvert_exporter": "python",
   "pygments_lexer": "ipython3",
   "version": "3.8.13"
  }
 },
 "nbformat": 4,
 "nbformat_minor": 2
}
