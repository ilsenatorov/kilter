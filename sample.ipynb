{
 "cells": [
  {
   "cell_type": "code",
   "execution_count": 1,
   "metadata": {},
   "outputs": [],
   "source": [
    "from src.utils import EncoderDecoder, get_climb_score\n",
    "import plotly.graph_objects as go\n",
    "from plotly.subplots import make_subplots\n",
    "from src.models.diffusion import SimpleDiffusionModel\n",
    "from src.models.predict import KilterModel\n",
    "import numpy as np\n",
    "import pandas as pd"
   ]
  },
  {
   "cell_type": "code",
   "execution_count": null,
   "metadata": {},
   "outputs": [],
   "source": [
    "model = SimpleDiffusionModel.load_from_checkpoint(\n",
    "    \"logs/lightning_logs/2263tvzt/checkpoints/epoch=24-step=84525.ckpt\",\n",
    "    config={\"dim\": 64, \"timesteps\": 1000, \"lr\": 1e-4, \"objective\" : \"eps\"},\n",
    ").cuda()\n",
    "# classifier = KilterModel.load_from_checkpoint(\n",
    "#     \"logs/lightning_logs/3pitto95/checkpoints/epoch=4-step=744.ckpt\",\n",
    "#     config={\"embedding_dim\": 246, \"dim\": 1024, \"depth\": 4, \"heads\": 8, \"mlp_dim\": 412, \"dropout\": 0.1},\n",
    "# )"
   ]
  },
  {
   "cell_type": "code",
   "execution_count": 2,
   "metadata": {},
   "outputs": [],
   "source": [
    "encdec = EncoderDecoder()"
   ]
  },
  {
   "cell_type": "code",
   "execution_count": null,
   "metadata": {},
   "outputs": [],
   "source": [
    "samples = model.diffusion.sample()"
   ]
  },
  {
   "cell_type": "code",
   "execution_count": null,
   "metadata": {},
   "outputs": [],
   "source": [
    "from tqdm import tqdm\n",
    "\n",
    "scores = []\n",
    "for i, sampled_climb in tqdm(enumerate(list(samples))):\n",
    "    scores.append(get_climb_score(sampled_climb))\n",
    "scores = pd.DataFrame(scores)"
   ]
  },
  {
   "cell_type": "code",
   "execution_count": null,
   "metadata": {},
   "outputs": [],
   "source": [
    "n = 2\n",
    "fig = make_subplots(rows=n, cols=n, horizontal_spacing=0.02, vertical_spacing=0.02)\n",
    "for i in range(n):\n",
    "    for j in range(n):\n",
    "        climb, angle = encdec(samples[i*n + j])\n",
    "        fig.add_trace(go.Image(z=encdec.plot_climb(climb), name=f\"Angle - {angle}\"), row=i+1, col=j+1)\n",
    "\n",
    "for i in range(n):\n",
    "    for j in range(n):\n",
    "        fig.update_xaxes(showticklabels=False, row=i + 1, col=j + 1)\n",
    "        fig.update_yaxes(showticklabels=False, row=i + 1, col=j + 1)\n",
    "fig.update_layout(\n",
    "    width=1000,\n",
    "    height=1000,\n",
    "    margin=dict(t=5,b=5, l=5, r=5),\n",
    ")\n",
    "fig.show()"
   ]
  }
 ],
 "metadata": {
  "kernelspec": {
   "display_name": "rindti",
   "language": "python",
   "name": "python3"
  },
  "language_info": {
   "codemirror_mode": {
    "name": "ipython",
    "version": 3
   },
   "file_extension": ".py",
   "mimetype": "text/x-python",
   "name": "python",
   "nbconvert_exporter": "python",
   "pygments_lexer": "ipython3",
   "version": "3.8.13"
  }
 },
 "nbformat": 4,
 "nbformat_minor": 2
}
