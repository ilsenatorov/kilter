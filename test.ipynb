{
 "cells": [
  {
   "cell_type": "code",
   "execution_count": 2,
   "metadata": {},
   "outputs": [],
   "source": [
    "import pandas as pd\n",
    "import plotly.express as px\n",
    "import numpy as np\n",
    "import torch_geometric as pyg\n",
    "import torch\n",
    "import networkx as nx\n",
    "import pytorch_lightning as pl"
   ]
  },
  {
   "cell_type": "code",
   "execution_count": 47,
   "metadata": {},
   "outputs": [],
   "source": [
    "climbs = pd.read_csv(\"data/climbs.csv\")\n",
    "grades = pd.read_csv(\"data/difficulty_grades.csv\")\n",
    "stats = pd.read_csv(\"data/climb_stats.csv\")\n",
    "holds = pd.read_csv(\"data/holes.csv\")\n",
    "holds = holds[holds['product_id'] == 1]\n",
    "placements = pd.read_csv(\"data/placements.csv\")\n",
    "hole_to_hold = placements.set_index(\"hole_id\")['hold_id'].to_dict()\n",
    "holds['hole_id'] = holds['id']\n",
    "holds['hold_id'] = holds['id'].apply(lambda x:hole_to_hold[x])\n",
    "holds.set_index(\"hold_id\", inplace=True)"
   ]
  },
  {
   "cell_type": "code",
   "execution_count": 48,
   "metadata": {},
   "outputs": [],
   "source": [
    "df = pd.merge(climbs.drop(\"angle\", axis=1), stats, left_on=\"uuid\", right_on=\"climb_uuid\")\n",
    "df['display_grade'] = df['display_difficulty'].apply(lambda x: grades.loc[int(x) + 1, \"boulder_name\"])\n",
    "df['average_grade'] = df['difficulty_average'].apply(lambda x: grades.loc[int(x) + 1, \"boulder_name\"])\n",
    "df = df[df['layout_id'] == 1]"
   ]
  },
  {
   "cell_type": "code",
   "execution_count": 43,
   "metadata": {},
   "outputs": [
    {
     "data": {
      "text/plain": [
       "tensor([[[0, 0, 0, 0],\n",
       "         [0, 0, 0, 0],\n",
       "         [0, 0, 0, 0],\n",
       "         ...,\n",
       "         [0, 0, 0, 0],\n",
       "         [0, 0, 0, 0],\n",
       "         [0, 0, 0, 0]],\n",
       "\n",
       "        [[0, 0, 0, 0],\n",
       "         [0, 0, 0, 0],\n",
       "         [0, 0, 0, 0],\n",
       "         ...,\n",
       "         [0, 0, 0, 0],\n",
       "         [0, 0, 0, 0],\n",
       "         [0, 0, 0, 0]],\n",
       "\n",
       "        [[0, 0, 0, 0],\n",
       "         [0, 0, 0, 0],\n",
       "         [0, 0, 0, 0],\n",
       "         ...,\n",
       "         [0, 0, 0, 0],\n",
       "         [0, 0, 0, 0],\n",
       "         [0, 0, 0, 0]],\n",
       "\n",
       "        ...,\n",
       "\n",
       "        [[0, 0, 0, 0],\n",
       "         [0, 0, 0, 0],\n",
       "         [0, 0, 0, 0],\n",
       "         ...,\n",
       "         [0, 0, 0, 0],\n",
       "         [0, 0, 0, 0],\n",
       "         [0, 0, 0, 0]],\n",
       "\n",
       "        [[0, 0, 0, 0],\n",
       "         [0, 0, 0, 0],\n",
       "         [0, 0, 0, 0],\n",
       "         ...,\n",
       "         [0, 0, 0, 0],\n",
       "         [0, 0, 0, 0],\n",
       "         [0, 0, 0, 0]],\n",
       "\n",
       "        [[0, 0, 0, 0],\n",
       "         [0, 0, 0, 0],\n",
       "         [0, 0, 0, 0],\n",
       "         ...,\n",
       "         [0, 0, 0, 0],\n",
       "         [0, 0, 0, 0],\n",
       "         [0, 0, 0, 0]]])"
      ]
     },
     "execution_count": 43,
     "metadata": {},
     "output_type": "execute_result"
    }
   ],
   "source": [
    "swooped = df[df[\"name\"] == \"swooped\"].iloc[0][\"frames\"]\n",
    "x_min, x_max = holds.x.min(), holds.x.max()\n",
    "y_min, y_max = holds.y.min(), holds.y.max()\n",
    "x_range, y_range = x_max - x_min, y_max - y_min\n",
    "\n",
    "\n",
    "def encode_frame(frames: str, angle: int, difficulty: float) -> torch.Tensor:\n",
    "    matrix = torch.zeros((46, 43, 4), dtype=torch.long)\n",
    "    for frame in frames.split(\"p\")[1:]:\n",
    "        hold_id, color = frame.split(\"r\")\n",
    "        hold_id, color = int(hold_id), int(color)\n",
    "        hold = holds.loc[hold_id]\n",
    "        x, y = (hold.x - x_min) // 4, (hold.y - y_min) // 4\n",
    "\n",
    "\n",
    "encode_frame(swooped, 40, 10)"
   ]
  },
  {
   "cell_type": "code",
   "execution_count": 27,
   "metadata": {},
   "outputs": [],
   "source": [
    "encode_frame()"
   ]
  },
  {
   "cell_type": "code",
   "execution_count": 46,
   "metadata": {},
   "outputs": [
    {
     "name": "stdout",
     "output_type": "stream",
     "text": [
      "-56 -12\n"
     ]
    }
   ],
   "source": []
  },
  {
   "cell_type": "code",
   "execution_count": 40,
   "metadata": {},
   "outputs": [
    {
     "data": {
      "text/plain": [
       "'p1080r15p1110r15p1131r12p1146r12p1164r13p1202r13p1246r13p1250r13p1282r13p1331r13p1351r13p1385r14'"
      ]
     },
     "execution_count": 40,
     "metadata": {},
     "output_type": "execute_result"
    }
   ],
   "source": []
  }
 ],
 "metadata": {
  "kernelspec": {
   "display_name": "rindti",
   "language": "python",
   "name": "python3"
  },
  "language_info": {
   "codemirror_mode": {
    "name": "ipython",
    "version": 3
   },
   "file_extension": ".py",
   "mimetype": "text/x-python",
   "name": "python",
   "nbconvert_exporter": "python",
   "pygments_lexer": "ipython3",
   "version": "3.8.13"
  }
 },
 "nbformat": 4,
 "nbformat_minor": 2
}
