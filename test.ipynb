{
 "cells": [
  {
   "cell_type": "code",
   "execution_count": 1,
   "metadata": {},
   "outputs": [],
   "source": [
    "from src.data.datasets import KilterDataset, KilterDiffusionDataset\n",
    "import torch\n",
    "from PIL import Image\n",
    "import plotly.express as px\n",
    "import pandas as pd\n",
    "from src.models.diffusion_unet import DiffusionUNet"
   ]
  },
  {
   "cell_type": "code",
   "execution_count": 2,
   "metadata": {},
   "outputs": [
    {
     "name": "stderr",
     "output_type": "stream",
     "text": [
      "64552it [00:58, 1108.64it/s]\n"
     ]
    }
   ],
   "source": []
  },
  {
   "cell_type": "code",
   "execution_count": 4,
   "metadata": {},
   "outputs": [],
   "source": [
    "t = ds[0][0]"
   ]
  },
  {
   "cell_type": "code",
   "execution_count": 16,
   "metadata": {},
   "outputs": [],
   "source": [
    "colors = torch.tensor(\n",
    "    [\n",
    "        [0, 255, 0],  # Green\n",
    "        [0, 0, 255],  # Blue\n",
    "        [128, 0, 128],  # Purple\n",
    "        [255, 165, 0],  # Orange\n",
    "    ],\n",
    "    dtype=torch.uint8,\n",
    ")\n",
    "\n",
    "\n",
    "def plot_climb(climb: torch.Tensor) -> Image:\n",
    "    colored_image = torch.zeros((50, 50, 3), dtype=torch.uint8)\n",
    "    for i in range(4):\n",
    "        mask = climb[i].to(torch.bool)\n",
    "        colored_image[mask] = colors[i]\n",
    "    return Image.fromarray(colored_image.numpy()).rotate(90)"
   ]
  },
  {
   "cell_type": "code",
   "execution_count": 17,
   "metadata": {},
   "outputs": [
    {
     "name": "stdout",
     "output_type": "stream",
     "text": [
      "82.7 µs ± 477 ns per loop (mean ± std. dev. of 7 runs, 10,000 loops each)\n"
     ]
    }
   ],
   "source": [
    "%%timeit\n",
    "plot_climb(t)"
   ]
  },
  {
   "cell_type": "code",
   "execution_count": null,
   "metadata": {},
   "outputs": [],
   "source": []
  }
 ],
 "metadata": {
  "kernelspec": {
   "display_name": "rindti",
   "language": "python",
   "name": "python3"
  },
  "language_info": {
   "codemirror_mode": {
    "name": "ipython",
    "version": 3
   },
   "file_extension": ".py",
   "mimetype": "text/x-python",
   "name": "python",
   "nbconvert_exporter": "python",
   "pygments_lexer": "ipython3",
   "version": "3.11.3"
  }
 },
 "nbformat": 4,
 "nbformat_minor": 2
}
