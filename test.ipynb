{
 "cells": [
  {
   "cell_type": "code",
   "execution_count": 51,
   "metadata": {},
   "outputs": [],
   "source": [
    "import pandas as pd\n",
    "from src.utils import EncoderDecoder, plot_climb\n",
    "import torch\n",
    "from src.data.datasets import KilterDataset\n",
    "import plotly.express as px\n",
    "import numpy as np\n",
    "from typing import Union"
   ]
  },
  {
   "cell_type": "code",
   "execution_count": 37,
   "metadata": {},
   "outputs": [],
   "source": [
    "df = pd.read_csv(\"data/raw/all_climbs.csv\", index_col=0)\n",
    "holds = pd.read_csv(\"data/raw/holds.csv\", index_col=0)"
   ]
  },
  {
   "cell_type": "code",
   "execution_count": 80,
   "metadata": {},
   "outputs": [],
   "source": [
    "class EncoderDecoder:\n",
    "    \"\"\"Converts frames to tensors and back\"\"\"\n",
    "\n",
    "    def __init__(self, holds: pd.DataFrame):\n",
    "        self.holds = holds\n",
    "        self.coord_to_id = self._create_coord_to_id()\n",
    "        self.id_to_coord = self._create_id_to_coord()\n",
    "\n",
    "    def _create_coord_to_id(self):\n",
    "        hold_lookup_matrix = np.zeros((48, 48), dtype=int)\n",
    "        for i in range(48):\n",
    "            for j in range(48):\n",
    "                hold = self.holds[\n",
    "                    (self.holds[\"x\"] == (i * 4 + 4)) & (self.holds[\"y\"] == (j * 4 + 4))\n",
    "                ]\n",
    "                if not hold.empty:\n",
    "                    hold_lookup_matrix[i, j] = int(hold.index[0])\n",
    "        return hold_lookup_matrix\n",
    "\n",
    "    def _create_id_to_coord(self):\n",
    "        id_to_coord = self.holds[[\"x\", \"y\"]]\n",
    "        id_to_coord = (id_to_coord - 4) // 4\n",
    "        return id_to_coord.transpose().to_dict(orient=\"list\")\n",
    "\n",
    "    def str_to_tensor(self, frames: str, angle: float) -> torch.Tensor:\n",
    "        angle_matrix = torch.ones((1, 48, 48), dtype=torch.float32) * (angle / 70)\n",
    "        matrix = torch.zeros((4, 48, 48), dtype=torch.float32)\n",
    "        for frame in frames.split(\"p\")[1:]:\n",
    "            hold_id, color = frame.split(\"r\")\n",
    "            hold_id, color = int(hold_id), int(color) - 12\n",
    "            coords = self.id_to_coord[hold_id]\n",
    "            matrix[color, coords[0], coords[1]] = 1\n",
    "        return torch.cat((matrix, angle_matrix), dim=0)\n",
    "\n",
    "    def tensor_to_str(self, matrix: torch.Tensor) -> str:\n",
    "        angle = (matrix[-1].mean() * 70).round().long().item()\n",
    "        matrix = matrix[:-1, :, :]\n",
    "        frames = []\n",
    "        counter = [0,0,0,0]\n",
    "        for color, x, y in zip(*torch.where(matrix)):\n",
    "            counter[color] += 1\n",
    "            color, x, y = color.item(), x.item(), y.item()\n",
    "            if counter[color] > 2 and color in [0,2]:\n",
    "                continue\n",
    "            hold_id = self.coord_to_id[x, y]\n",
    "            role = color + 12\n",
    "            frames.append((hold_id, role))\n",
    "        sorted_frames = sorted(frames, key=lambda x: x[0])\n",
    "        return (\n",
    "            \"\".join([f\"p{hold_id}r{role}\" for hold_id, role in sorted_frames]), angle\n",
    "        )\n",
    "\n",
    "    def __call__(self, *args):\n",
    "        if len(args) == 1:\n",
    "            return self.tensor_to_str(*args)\n",
    "        elif len(args) == 2:\n",
    "            return self.str_to_tensor(*args)\n",
    "        else:\n",
    "            raise ValueError(f\"Only 2 input args allowed! You provided {len(args)}\")\n",
    "\n",
    "\n",
    "encdec = EncoderDecoder(holds)\n"
   ]
  },
  {
   "cell_type": "code",
   "execution_count": 82,
   "metadata": {},
   "outputs": [
    {
     "name": "stdout",
     "output_type": "stream",
     "text": [
      "p1100r15p1103r15p1137r15p1151r15p1168r12p1178r15p1187r12p1192r15p1197r15p1200r15p1220r13p1246r13p1253r13p1265r13p1268r13p1278r14\n",
      "p1100r15p1103r15p1137r15p1151r15p1168r12p1178r15p1187r12p1192r15p1197r15p1200r15p1220r13p1246r13p1253r13p1265r13p1268r13p1278r14\n"
     ]
    }
   ],
   "source": [
    "frames = df.iloc[0][\"frames\"]\n",
    "print(frames)\n",
    "t = encdec(frames, 40)\n",
    "t[0,40,40] = 1\n",
    "print(encdec(t)[0])\n"
   ]
  }
 ],
 "metadata": {
  "kernelspec": {
   "display_name": "rindti",
   "language": "python",
   "name": "python3"
  },
  "language_info": {
   "codemirror_mode": {
    "name": "ipython",
    "version": 3
   },
   "file_extension": ".py",
   "mimetype": "text/x-python",
   "name": "python",
   "nbconvert_exporter": "python",
   "pygments_lexer": "ipython3",
   "version": "3.8.13"
  }
 },
 "nbformat": 4,
 "nbformat_minor": 2
}
