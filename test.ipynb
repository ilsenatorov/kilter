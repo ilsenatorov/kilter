{
 "cells": [
  {
   "cell_type": "code",
   "execution_count": 24,
   "metadata": {},
   "outputs": [],
   "source": [
    "import torch\n",
    "import pandas as pd\n",
    "df = pd.read_csv(\"data/raw/train.csv\", index_col=0)"
   ]
  },
  {
   "cell_type": "code",
   "execution_count": 41,
   "metadata": {},
   "outputs": [],
   "source": [
    "preds = torch.tensor(df.sample(128)['difficulty_average'].tolist()).unsqueeze(-1)\n",
    "# difficulty = preds\n",
    "difficulty = torch.tensor(df.sample(128)['difficulty_average'].tolist()).unsqueeze(-1)"
   ]
  },
  {
   "cell_type": "code",
   "execution_count": 42,
   "metadata": {},
   "outputs": [],
   "source": [
    "def top1_top3_accuracy(preds, difficulty):\n",
    "    diff = (preds - difficulty).abs()\n",
    "    num_samples = diff.size(0)\n",
    "    top1_guesses = (diff < 1).long()\n",
    "    top3_guesses = (diff < 3).long()\n",
    "    return top1_guesses.sum()/num_samples, top3_guesses.sum() / num_samples\n",
    "    "
   ]
  },
  {
   "cell_type": "code",
   "execution_count": 43,
   "metadata": {},
   "outputs": [
    {
     "data": {
      "text/plain": [
       "(tensor(0.1328), tensor(0.3125))"
      ]
     },
     "execution_count": 43,
     "metadata": {},
     "output_type": "execute_result"
    }
   ],
   "source": [
    "top1_top3_accuracy(preds, difficulty)"
   ]
  },
  {
   "cell_type": "code",
   "execution_count": 40,
   "metadata": {},
   "outputs": [
    {
     "name": "stdout",
     "output_type": "stream",
     "text": [
      "22 14\n",
      "16 18\n",
      "25 15\n",
      "19 25\n",
      "13 21\n",
      "17 22\n",
      "20 22\n",
      "13 20\n",
      "25 22\n",
      "18 18\n",
      "12 20\n",
      "18 13\n",
      "20 24\n",
      "17 15\n",
      "20 26\n",
      "22 20\n",
      "20 15\n",
      "17 23\n",
      "21 22\n",
      "23 21\n",
      "24 20\n",
      "17 20\n",
      "19 21\n",
      "24 28\n",
      "17 28\n",
      "11 20\n",
      "22 26\n",
      "21 23\n",
      "22 19\n",
      "16 24\n",
      "21 25\n",
      "19 20\n",
      "23 27\n",
      "12 16\n",
      "22 15\n",
      "19 19\n",
      "24 15\n",
      "15 15\n",
      "17 17\n",
      "14 10\n",
      "18 24\n",
      "19 19\n",
      "15 14\n",
      "22 16\n",
      "23 13\n",
      "23 25\n",
      "13 26\n",
      "11 22\n",
      "17 21\n",
      "11 17\n",
      "14 21\n",
      "24 16\n",
      "19 19\n",
      "23 26\n",
      "16 16\n",
      "18 18\n",
      "13 18\n",
      "24 19\n",
      "21 16\n",
      "14 15\n",
      "19 19\n",
      "15 17\n",
      "16 20\n",
      "21 20\n",
      "23 20\n",
      "20 20\n",
      "25 16\n",
      "21 21\n",
      "14 13\n",
      "16 10\n",
      "18 23\n",
      "15 16\n",
      "29 21\n",
      "24 18\n",
      "11 10\n",
      "13 21\n",
      "24 27\n",
      "23 11\n",
      "21 18\n",
      "19 22\n",
      "22 20\n",
      "23 18\n",
      "20 11\n",
      "19 22\n",
      "13 17\n",
      "27 21\n",
      "21 19\n",
      "10 25\n",
      "16 12\n",
      "16 21\n",
      "16 13\n",
      "16 22\n",
      "19 21\n",
      "26 23\n",
      "27 22\n",
      "28 19\n",
      "19 22\n",
      "13 22\n",
      "17 21\n",
      "17 20\n",
      "18 12\n",
      "11 20\n",
      "23 12\n",
      "11 13\n",
      "20 14\n",
      "16 11\n",
      "21 21\n",
      "20 22\n",
      "11 11\n",
      "13 21\n",
      "13 21\n",
      "24 13\n",
      "16 20\n",
      "14 24\n",
      "15 18\n",
      "22 20\n",
      "23 24\n",
      "24 25\n",
      "16 12\n",
      "20 10\n",
      "22 22\n",
      "24 24\n",
      "22 13\n",
      "13 13\n",
      "21 16\n",
      "10 18\n",
      "10 18\n",
      "10 21\n"
     ]
    }
   ],
   "source": [
    "for i in range(preds.size(0)):\n",
    "    print(int(preds[i].item()), int(difficulty[i].item()))"
   ]
  },
  {
   "cell_type": "code",
   "execution_count": null,
   "metadata": {},
   "outputs": [],
   "source": []
  }
 ],
 "metadata": {
  "kernelspec": {
   "display_name": "rindti",
   "language": "python",
   "name": "python3"
  },
  "language_info": {
   "codemirror_mode": {
    "name": "ipython",
    "version": 3
   },
   "file_extension": ".py",
   "mimetype": "text/x-python",
   "name": "python",
   "nbconvert_exporter": "python",
   "pygments_lexer": "ipython3",
   "version": "3.11.3"
  }
 },
 "nbformat": 4,
 "nbformat_minor": 2
}
