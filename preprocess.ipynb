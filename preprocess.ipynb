{
 "cells": [
  {
   "cell_type": "code",
   "execution_count": 1,
   "metadata": {},
   "outputs": [],
   "source": [
    "import pandas as pd\n",
    "import plotly.express as px\n",
    "import sqlite3\n",
    "import numpy as np\n",
    "from src.utils import get_climb_score, EncoderDecoder"
   ]
  },
  {
   "cell_type": "code",
   "execution_count": 2,
   "metadata": {},
   "outputs": [],
   "source": [
    "# load everything from sql\n",
    "conn = sqlite3.connect(\"data/db.sqlite3\")\n",
    "climbs = pd.read_sql_query(\"SELECT * FROM climbs\", conn)\n",
    "grades = pd.read_sql_query(\"SELECT * FROM difficulty_grades\", conn)\n",
    "stats = pd.read_sql_query(\"SELECT * FROM climb_stats\", conn)\n",
    "holds = pd.read_sql_query(\"SELECT * FROM holes\", conn)\n",
    "placements = pd.read_sql_query(\"SELECT * FROM placements\", conn)\n",
    "holds = pd.merge(placements, holds, left_on=\"hole_id\", right_on=\"id\")\n",
    "holds.set_index(\"id_x\", inplace=True)"
   ]
  },
  {
   "cell_type": "code",
   "execution_count": 3,
   "metadata": {},
   "outputs": [],
   "source": [
    "# merge and rename\n",
    "df = pd.merge(\n",
    "    climbs.drop(\"angle\", axis=1), stats, left_on=\"uuid\", right_on=\"climb_uuid\"\n",
    ")\n",
    "df[\"display_grade\"] = df[\"display_difficulty\"].apply(\n",
    "    lambda x: grades.loc[int(x) + 1, \"boulder_name\"]\n",
    ")\n",
    "df[\"average_grade\"] = df[\"difficulty_average\"].apply(\n",
    "    lambda x: grades.loc[int(x) + 1, \"boulder_name\"]\n",
    ")"
   ]
  },
  {
   "cell_type": "code",
   "execution_count": 4,
   "metadata": {},
   "outputs": [
    {
     "name": "stdout",
     "output_type": "stream",
     "text": [
      "(158652, 28)\n",
      "(157784, 28)\n",
      "(149859, 28)\n",
      "(127969, 28)\n",
      "(124616, 28)\n",
      "(124616, 29)\n"
     ]
    }
   ],
   "source": [
    "LAYOUT_ID = 1\n",
    "MIN_ASCENTS = 1\n",
    "MIN_QUALITY = 2\n",
    "\n",
    "print(df.shape)\n",
    "df = df[df[\"frames_count\"] == 1]\n",
    "print(df.shape)\n",
    "df = df[df[\"is_listed\"] == 1]\n",
    "print(df.shape)\n",
    "df = df[df[\"layout_id\"] == 1]\n",
    "print(df.shape)\n",
    "df = df[df[\"quality_average\"] >= MIN_QUALITY]\n",
    "print(df.shape)\n",
    "df = df[df[\"ascensionist_count\"] >= MIN_ASCENTS].reset_index()\n",
    "print(df.shape)\n",
    "\n",
    "holds = holds[holds[\"layout_id\"] == 1]\n",
    "holds = holds[holds.index.to_series() < 3000]\n",
    "encdec = EncoderDecoder(holds)"
   ]
  },
  {
   "cell_type": "code",
   "execution_count": 6,
   "metadata": {},
   "outputs": [
    {
     "name": "stdout",
     "output_type": "stream",
     "text": [
      "(123368, 29)\n",
      "(123368, 29)\n"
     ]
    },
    {
     "name": "stderr",
     "output_type": "stream",
     "text": [
      "/home/ilya/Projects/kilter/src/utils.py:34: UserWarning: __floordiv__ is deprecated, and its behavior will change in a future version of pytorch. It currently rounds toward 0 (like the 'trunc' function NOT 'floor'). This results in incorrect rounding for negative values. To keep the current behavior, use torch.div(a, b, rounding_mode='trunc'), or for actual floor division, use torch.div(a, b, rounding_mode='floor').\n",
      "  x, y = (argmax // climb.size(2), argmax % climb.size(2))\n",
      "/home/ilya/Projects/kilter/src/utils.py:40: UserWarning: __floordiv__ is deprecated, and its behavior will change in a future version of pytorch. It currently rounds toward 0 (like the 'trunc' function NOT 'floor'). This results in incorrect rounding for negative values. To keep the current behavior, use torch.div(a, b, rounding_mode='trunc'), or for actual floor division, use torch.div(a, b, rounding_mode='floor').\n",
      "  x, y = (argmax // climb.size(2), argmax % climb.size(2))\n"
     ]
    },
    {
     "name": "stdout",
     "output_type": "stream",
     "text": [
      "(108163, 30)\n"
     ]
    }
   ],
   "source": [
    "used_holds = set()\n",
    "colors = set()\n",
    "bad_route_ids = set()\n",
    "for name, row in df.iterrows():\n",
    "    for frame in row[\"frames\"].split(\"p\")[1:]:\n",
    "        hold, color = frame.split(\"r\")\n",
    "        if int(color) not in [12, 13, 14, 15] or int(hold) not in holds.index:\n",
    "            bad_route_ids.add(name)\n",
    "            break\n",
    "        used_holds.add(int(hold))\n",
    "        colors.add(int(color))\n",
    "print(df.shape)\n",
    "df = df.loc[list(set(df.index).difference(bad_route_ids))]\n",
    "print(df.shape)\n",
    "df[\"score\"] = df[\"frames\"].apply(lambda x: get_climb_score(encdec(x, 0)))\n",
    "df = df[df[\"score\"] >= 3.5]\n",
    "print(df.shape)\n",
    "df.groupby(\"frames\")\n",
    "split_values = np.random.choice(\n",
    "    [\"train\", \"test\", \"val\"], size=len(df), p=[0.7, 0.2, 0.1]\n",
    ")\n",
    "df[\"split\"] = split_values\n",
    "train = df[df[\"split\"] == \"train\"]\n",
    "test = df[df[\"split\"] == \"test\"]\n",
    "val = df[df[\"split\"] == \"val\"]"
   ]
  },
  {
   "cell_type": "code",
   "execution_count": null,
   "metadata": {},
   "outputs": [],
   "source": [
    "def add_split_column(df):\n",
    "    split = np.random.choice([\"train\", \"test\", \"val\"], p=[0.7, 0.2, 0.1])\n",
    "    df[\"split\"] = split\n",
    "    return df"
   ]
  },
  {
   "cell_type": "code",
   "execution_count": 7,
   "metadata": {},
   "outputs": [],
   "source": [
    "!mkdir -p data/raw\n",
    "df.to_csv(\"data/raw/all_climbs.csv\")\n",
    "train.to_csv(\"data/raw/train.csv\")\n",
    "test.to_csv(\"data/raw/test.csv\")\n",
    "val.to_csv(\"data/raw/val.csv\")\n",
    "holds.to_csv(\"data/raw/holds.csv\")\n",
    "grades.to_csv(\"data/raw/grades.csv\")"
   ]
  },
  {
   "cell_type": "code",
   "execution_count": 8,
   "metadata": {},
   "outputs": [],
   "source": [
    "df[\"frames\"].to_csv(\"frames.txt\", index=False, header=False)"
   ]
  },
  {
   "cell_type": "code",
   "execution_count": 9,
   "metadata": {},
   "outputs": [],
   "source": [
    "df = df.drop_duplicates(\"frames\")"
   ]
  },
  {
   "cell_type": "code",
   "execution_count": 10,
   "metadata": {},
   "outputs": [],
   "source": [
    "df[\"frames\"].apply(lambda x: \" \".join(x.split(\"p\")[1:])).to_csv(\n",
    "    \"../minimal-text-diffusion/data/frames-split.txt\", index=False, header=False\n",
    ")"
   ]
  },
  {
   "cell_type": "code",
   "execution_count": null,
   "metadata": {},
   "outputs": [],
   "source": []
  }
 ],
 "metadata": {
  "kernelspec": {
   "display_name": "rindti",
   "language": "python",
   "name": "python3"
  },
  "language_info": {
   "codemirror_mode": {
    "name": "ipython",
    "version": 3
   },
   "file_extension": ".py",
   "mimetype": "text/x-python",
   "name": "python",
   "nbconvert_exporter": "python",
   "pygments_lexer": "ipython3",
   "version": "3.8.13"
  }
 },
 "nbformat": 4,
 "nbformat_minor": 2
}
